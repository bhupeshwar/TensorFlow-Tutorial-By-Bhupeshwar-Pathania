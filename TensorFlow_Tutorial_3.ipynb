{
 "cells": [
  {
   "cell_type": "markdown",
   "id": "25c5b616-2788-4a77-ba82-e1b35f596d2c",
   "metadata": {},
   "source": [
    "# Create TensorFlow Placeholder using TensorFlow 2.X"
   ]
  },
  {
   "cell_type": "code",
   "execution_count": null,
   "id": "4a38c40a-c235-4b2d-8a67-bb0edd04025a",
   "metadata": {},
   "outputs": [],
   "source": [
    "A TensorFlow placeholder is simply a variable that we will assign data to at a later date. \n",
    "It allows us to create our operations and build our computation graph, without needing the data."
   ]
  },
  {
   "cell_type": "code",
   "execution_count": null,
   "id": "2f918c9d-61ce-44ac-8cb4-f1893c7af4d9",
   "metadata": {},
   "outputs": [],
   "source": [
    "Syntax: tf.compat.v1.placeholder(dtype, shape=None, name=None)"
   ]
  },
  {
   "cell_type": "markdown",
   "id": "7450efc1-d664-4664-a0f3-d2e9f1cf6f99",
   "metadata": {},
   "source": [
    "## How Migrate your TensorFlow 1 code to TensorFlow 2"
   ]
  },
  {
   "cell_type": "markdown",
   "id": "0e21dfe6-8899-442c-8fcb-7c588feb842f",
   "metadata": {},
   "source": [
    "## import Tensorflow 2"
   ]
  },
  {
   "cell_type": "code",
   "execution_count": 1,
   "id": "9fcf6d7f-0a91-4b51-b71b-c9f8b735b08a",
   "metadata": {},
   "outputs": [],
   "source": [
    "import tensorflow as tf"
   ]
  },
  {
   "cell_type": "code",
   "execution_count": 8,
   "id": "2498974b-4de0-4d8b-ba3e-91d9638451dd",
   "metadata": {},
   "outputs": [],
   "source": [
    "# placeholders are not executable immediately so we need to disable eager exicution in TF 2 not in 1\n",
    "tf.compat.v1.disable_eager_execution()"
   ]
  },
  {
   "cell_type": "markdown",
   "id": "5521cf1f-ceaf-4a24-9c1d-c8a20f1fce37",
   "metadata": {},
   "source": [
    "## Create Placeholder"
   ]
  },
  {
   "cell_type": "code",
   "execution_count": 7,
   "id": "f9faad34-a5e5-4f50-984f-9aa2d540353a",
   "metadata": {},
   "outputs": [
    {
     "data": {
      "text/plain": [
       "<tf.Tensor 'Placeholder_1:0' shape=(400, 400) dtype=float32>"
      ]
     },
     "execution_count": 7,
     "metadata": {},
     "output_type": "execute_result"
    }
   ],
   "source": [
    "a = tf.compat.v1.placeholder(dtype=tf.float32, shape=(400,400))\n",
    "a"
   ]
  },
  {
   "cell_type": "code",
   "execution_count": 6,
   "id": "57f381a4-063b-46b0-95fd-156cbc8e1e4a",
   "metadata": {},
   "outputs": [
    {
     "data": {
      "text/plain": [
       "tf.float32"
      ]
     },
     "execution_count": 6,
     "metadata": {},
     "output_type": "execute_result"
    }
   ],
   "source": [
    "a.dtype"
   ]
  },
  {
   "cell_type": "code",
   "execution_count": 9,
   "id": "500020c8-4193-40cc-b86d-84be1a800924",
   "metadata": {},
   "outputs": [
    {
     "data": {
      "text/plain": [
       "TensorShape([400, 400])"
      ]
     },
     "execution_count": 9,
     "metadata": {},
     "output_type": "execute_result"
    }
   ],
   "source": [
    "a.shape"
   ]
  },
  {
   "cell_type": "code",
   "execution_count": 10,
   "id": "e7250a58-335f-4ee2-a674-2d9154e60b32",
   "metadata": {},
   "outputs": [
    {
     "data": {
      "text/plain": [
       "'Placeholder_1:0'"
      ]
     },
     "execution_count": 10,
     "metadata": {},
     "output_type": "execute_result"
    }
   ],
   "source": [
    "a.name"
   ]
  },
  {
   "cell_type": "code",
   "execution_count": 11,
   "id": "35c27fdb-509e-4ab2-87e5-9c87664a433f",
   "metadata": {},
   "outputs": [
    {
     "data": {
      "text/plain": [
       "<tf.Tensor 'Placeholder_2:0' shape=(400, 400) dtype=float32>"
      ]
     },
     "execution_count": 11,
     "metadata": {},
     "output_type": "execute_result"
    }
   ],
   "source": [
    "b = tf.compat.v1.placeholder(dtype=tf.float32, shape=(400,400))\n",
    "b"
   ]
  },
  {
   "cell_type": "markdown",
   "id": "4846fef2-6ae2-4fd6-8576-7417a13db56f",
   "metadata": {},
   "source": [
    "## Perform mathematical operation with placeholder"
   ]
  },
  {
   "cell_type": "code",
   "execution_count": 12,
   "id": "95b5a096-4807-477a-9448-f21407f0a02b",
   "metadata": {},
   "outputs": [
    {
     "data": {
      "text/plain": [
       "<tf.Tensor 'Add:0' shape=(400, 400) dtype=float32>"
      ]
     },
     "execution_count": 12,
     "metadata": {},
     "output_type": "execute_result"
    }
   ],
   "source": [
    "c = tf.add(a, b)\n",
    "c"
   ]
  },
  {
   "cell_type": "markdown",
   "id": "32f06e1b-259e-4d19-a5a5-eac335981d7e",
   "metadata": {},
   "source": [
    "## Create Numpy Array"
   ]
  },
  {
   "cell_type": "code",
   "execution_count": 13,
   "id": "a744dcb3-60d8-4bca-a007-88d2a12713be",
   "metadata": {},
   "outputs": [
    {
     "data": {
      "text/plain": [
       "array([[1., 1., 1., ..., 1., 1., 1.],\n",
       "       [1., 1., 1., ..., 1., 1., 1.],\n",
       "       [1., 1., 1., ..., 1., 1., 1.],\n",
       "       ...,\n",
       "       [1., 1., 1., ..., 1., 1., 1.],\n",
       "       [1., 1., 1., ..., 1., 1., 1.],\n",
       "       [1., 1., 1., ..., 1., 1., 1.]], dtype=float32)"
      ]
     },
     "execution_count": 13,
     "metadata": {},
     "output_type": "execute_result"
    }
   ],
   "source": [
    "import numpy as np\n",
    "ones_array = np.ones((400,400), np.float32)\n",
    "ones_array"
   ]
  },
  {
   "cell_type": "markdown",
   "id": "9e66ed87-67dd-48d4-abe8-b52b4eb9578f",
   "metadata": {},
   "source": [
    "## Execute Tensorflow Placeholder using session"
   ]
  },
  {
   "cell_type": "code",
   "execution_count": 14,
   "id": "796a3da1-ef40-4608-a869-0792d721d08c",
   "metadata": {},
   "outputs": [
    {
     "data": {
      "text/plain": [
       "array([[2., 2., 2., ..., 2., 2., 2.],\n",
       "       [2., 2., 2., ..., 2., 2., 2.],\n",
       "       [2., 2., 2., ..., 2., 2., 2.],\n",
       "       ...,\n",
       "       [2., 2., 2., ..., 2., 2., 2.],\n",
       "       [2., 2., 2., ..., 2., 2., 2.],\n",
       "       [2., 2., 2., ..., 2., 2., 2.]], dtype=float32)"
      ]
     },
     "execution_count": 14,
     "metadata": {},
     "output_type": "execute_result"
    }
   ],
   "source": [
    "with tf.compat.v1.Session() as sess:\n",
    "    d = sess.run(c, feed_dict={a:ones_array, b:ones_array})\n",
    "d"
   ]
  },
  {
   "cell_type": "code",
   "execution_count": 15,
   "id": "cbd65812-7be9-4d86-aa44-b1183f8b0ff8",
   "metadata": {},
   "outputs": [
    {
     "data": {
      "text/plain": [
       "numpy.ndarray"
      ]
     },
     "execution_count": 15,
     "metadata": {},
     "output_type": "execute_result"
    }
   ],
   "source": [
    "# type of variable\n",
    "type(d)"
   ]
  },
  {
   "cell_type": "code",
   "execution_count": null,
   "id": "581bc12a-270f-4df6-894b-f0dae5c1fb6e",
   "metadata": {},
   "outputs": [],
   "source": []
  }
 ],
 "metadata": {
  "kernelspec": {
   "display_name": "Python 3 (ipykernel)",
   "language": "python",
   "name": "python3"
  },
  "language_info": {
   "codemirror_mode": {
    "name": "ipython",
    "version": 3
   },
   "file_extension": ".py",
   "mimetype": "text/x-python",
   "name": "python",
   "nbconvert_exporter": "python",
   "pygments_lexer": "ipython3",
   "version": "3.11.9"
  }
 },
 "nbformat": 4,
 "nbformat_minor": 5
}
