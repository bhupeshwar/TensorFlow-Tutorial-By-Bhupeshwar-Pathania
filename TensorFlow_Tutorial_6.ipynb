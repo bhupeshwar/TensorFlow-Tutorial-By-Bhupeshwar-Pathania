{
 "cells": [
  {
   "cell_type": "markdown",
   "id": "4fdd2059-c516-4f07-a208-8db0afd63abe",
   "metadata": {},
   "source": [
    "# Create Zeros vs Zeros _like vs Zeros _initializer Tensor Using TensorFlow 2.0"
   ]
  },
  {
   "cell_type": "markdown",
   "id": "ab1f2fc7-42be-486d-a8f2-7ae271b6f5f5",
   "metadata": {},
   "source": [
    "In TensorFlow 2.0, we can create Zeros Tensor(every element in tensor are zeros) in different ways \n",
    "using tf.zeros() and tf.zeros_like() and tf.zeros_initializer()."
   ]
  },
  {
   "cell_type": "markdown",
   "id": "b2a65093-2f0d-4c3c-bdf0-9a6233162a80",
   "metadata": {},
   "source": [
    "## Create Zeros Tesnor using tf.zeros()"
   ]
  },
  {
   "cell_type": "markdown",
   "id": "e6f97c03-5676-475f-aa9f-e9a93a1c5059",
   "metadata": {},
   "source": [
    "Creates a tensor with all elements set to zero (0)\n",
    "\n",
    "Syntax:\n",
    "\n",
    "tf.zeros(shape, dtype=tf.dtypes.float32, name=None) -> Return ZerosTensor"
   ]
  },
  {
   "cell_type": "code",
   "execution_count": 1,
   "id": "f54360ed-4b57-4cb0-8670-66ce70bd3661",
   "metadata": {},
   "outputs": [],
   "source": [
    "# Import TensorFlow 2\n",
    "import tensorflow as tf"
   ]
  },
  {
   "cell_type": "markdown",
   "id": "ca83e19a-b4a9-4f6c-99b6-274ac6763994",
   "metadata": {},
   "source": [
    "### Creates a tensor with all elements set to zero."
   ]
  },
  {
   "cell_type": "code",
   "execution_count": 2,
   "id": "43a0b57e-e67a-46ec-9a95-a32be80ed778",
   "metadata": {},
   "outputs": [
    {
     "data": {
      "text/plain": [
       "<tf.Tensor: shape=(2, 2), dtype=int32, numpy=\n",
       "array([[0, 0],\n",
       "       [0, 0]])>"
      ]
     },
     "execution_count": 2,
     "metadata": {},
     "output_type": "execute_result"
    }
   ],
   "source": [
    "zeros_2dt = tf.zeros((2,2), dtype=tf.int32)\n",
    "zeros_2dt"
   ]
  },
  {
   "cell_type": "code",
   "execution_count": 3,
   "id": "7ecef66f-8751-4d0b-92a4-d8725e41118e",
   "metadata": {},
   "outputs": [
    {
     "data": {
      "text/plain": [
       "<tf.Tensor: shape=(2, 2, 4), dtype=int8, numpy=\n",
       "array([[[0, 0, 0, 0],\n",
       "        [0, 0, 0, 0]],\n",
       "\n",
       "       [[0, 0, 0, 0],\n",
       "        [0, 0, 0, 0]]], dtype=int8)>"
      ]
     },
     "execution_count": 3,
     "metadata": {},
     "output_type": "execute_result"
    }
   ],
   "source": [
    "zeros_3dt = tf.zeros((2,2,4), dtype=tf.int8)\n",
    "zeros_3dt"
   ]
  },
  {
   "cell_type": "code",
   "execution_count": 4,
   "id": "d285435e-1e12-41c4-acd9-72f52481e138",
   "metadata": {},
   "outputs": [
    {
     "data": {
      "text/plain": [
       "TensorShape([2, 2, 4])"
      ]
     },
     "execution_count": 4,
     "metadata": {},
     "output_type": "execute_result"
    }
   ],
   "source": [
    "zeros_3dt.shape"
   ]
  },
  {
   "cell_type": "code",
   "execution_count": 5,
   "id": "76994177-0306-46a1-b369-4bfda93ff854",
   "metadata": {},
   "outputs": [
    {
     "data": {
      "text/plain": [
       "tf.int8"
      ]
     },
     "execution_count": 5,
     "metadata": {},
     "output_type": "execute_result"
    }
   ],
   "source": [
    "zeros_3dt.dtype"
   ]
  },
  {
   "cell_type": "code",
   "execution_count": 6,
   "id": "914c4ef2-82ad-4f50-a59d-1caaa3d18814",
   "metadata": {},
   "outputs": [
    {
     "data": {
      "text/plain": [
       "array([[[0, 0, 0, 0],\n",
       "        [0, 0, 0, 0]],\n",
       "\n",
       "       [[0, 0, 0, 0],\n",
       "        [0, 0, 0, 0]]], dtype=int8)"
      ]
     },
     "execution_count": 6,
     "metadata": {},
     "output_type": "execute_result"
    }
   ],
   "source": [
    "zeros_3dt.numpy()"
   ]
  },
  {
   "cell_type": "code",
   "execution_count": 7,
   "id": "a8b95096-974e-4385-a981-bf7cdafbcdcb",
   "metadata": {},
   "outputs": [
    {
     "data": {
      "text/plain": [
       "[[[0, 0, 0, 0], [0, 0, 0, 0]], [[0, 0, 0, 0], [0, 0, 0, 0]]]"
      ]
     },
     "execution_count": 7,
     "metadata": {},
     "output_type": "execute_result"
    }
   ],
   "source": [
    "zeros_3dt.numpy().tolist()"
   ]
  },
  {
   "cell_type": "markdown",
   "id": "60e72c7b-53de-423e-8200-c555a7e387c3",
   "metadata": {},
   "source": [
    "## Create Zeros Tesnor using tf.zeros_like()"
   ]
  },
  {
   "cell_type": "markdown",
   "id": "9c927540-e249-473e-b449-024a92020c0a",
   "metadata": {},
   "source": [
    "Creates a tensor with all elements set to zero.\n",
    "\n",
    "Syntax:\n",
    "\n",
    "tf.zeros_like(input, dtype=None, name=None) -> Return Zeros Tensor"
   ]
  },
  {
   "cell_type": "markdown",
   "id": "43aecc82-50a6-4d50-a97d-0fdf4fc6007e",
   "metadata": {},
   "source": [
    "#### Creates a tensor with all elements set to zero."
   ]
  },
  {
   "cell_type": "markdown",
   "id": "09441d38-7d89-4cfe-80af-ebfece75d0a1",
   "metadata": {},
   "source": [
    "Initializer that generates tensors initialized to 0.\n",
    "\n",
    "Initializers allow you to pre-specify an initialization strategy, encoded in the Initializer object, without knowing the shape and dtype of the variable being initialized.\n",
    "\n",
    "Syntax:\n",
    "\t\n",
    "tf.zeros_initializer()"
   ]
  },
  {
   "cell_type": "code",
   "execution_count": 9,
   "id": "d9fdddd7-5931-489c-a1c2-15c1df1511dd",
   "metadata": {},
   "outputs": [],
   "source": [
    "def zeros_variable(shape, dtype, initializer):\n",
    "    return tf.Variable(initializer(shape=shape, dtype=dtype))"
   ]
  },
  {
   "cell_type": "code",
   "execution_count": 10,
   "id": "841f7c99-aca3-4785-b6d4-92da15df472b",
   "metadata": {},
   "outputs": [
    {
     "data": {
      "text/plain": [
       "<tf.Variable 'Variable:0' shape=(2, 2) dtype=float32, numpy=\n",
       "array([[0., 0.],\n",
       "       [0., 0.]], dtype=float32)>"
      ]
     },
     "execution_count": 10,
     "metadata": {},
     "output_type": "execute_result"
    }
   ],
   "source": [
    "zi_t_var= zeros_variable((2,2), tf.float32, tf.zeros_initializer())\n",
    "zi_t_var"
   ]
  },
  {
   "cell_type": "code",
   "execution_count": 11,
   "id": "55a65a0c-00db-4a9a-8392-8ea80b2b5bf9",
   "metadata": {},
   "outputs": [
    {
     "data": {
      "text/plain": [
       "<tf.Variable 'Variable:0' shape=(3, 2, 5) dtype=bool, numpy=\n",
       "array([[[False, False, False, False, False],\n",
       "        [False, False, False, False, False]],\n",
       "\n",
       "       [[False, False, False, False, False],\n",
       "        [False, False, False, False, False]],\n",
       "\n",
       "       [[False, False, False, False, False],\n",
       "        [False, False, False, False, False]]])>"
      ]
     },
     "execution_count": 11,
     "metadata": {},
     "output_type": "execute_result"
    }
   ],
   "source": [
    "zeros_variable((3,2,5), tf.bool, tf.zeros_initializer())"
   ]
  },
  {
   "cell_type": "code",
   "execution_count": 12,
   "id": "07b6f7be-8546-4dc2-a956-52c7cf10b703",
   "metadata": {},
   "outputs": [
    {
     "data": {
      "text/plain": [
       "<tf.Variable 'Variable:0' shape=(2, 2) dtype=float32, numpy=\n",
       "array([[0., 0.],\n",
       "       [0., 0.]], dtype=float32)>"
      ]
     },
     "execution_count": 12,
     "metadata": {},
     "output_type": "execute_result"
    }
   ],
   "source": [
    "tf.Variable(tf.zeros_initializer()((2,2), tf.float32))"
   ]
  },
  {
   "cell_type": "code",
   "execution_count": null,
   "id": "878ca4ff-e59a-43ff-b0f0-ea138ab2a796",
   "metadata": {},
   "outputs": [],
   "source": []
  }
 ],
 "metadata": {
  "kernelspec": {
   "display_name": "Python 3 (ipykernel)",
   "language": "python",
   "name": "python3"
  },
  "language_info": {
   "codemirror_mode": {
    "name": "ipython",
    "version": 3
   },
   "file_extension": ".py",
   "mimetype": "text/x-python",
   "name": "python",
   "nbconvert_exporter": "python",
   "pygments_lexer": "ipython3",
   "version": "3.11.9"
  }
 },
 "nbformat": 4,
 "nbformat_minor": 5
}
