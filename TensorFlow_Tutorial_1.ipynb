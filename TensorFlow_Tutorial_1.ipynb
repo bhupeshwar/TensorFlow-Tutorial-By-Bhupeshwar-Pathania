{
 "cells": [
  {
   "cell_type": "markdown",
   "id": "23fe9324-04c5-495e-a451-d39d6a226681",
   "metadata": {},
   "source": [
    "# How to Create Constant Variable in TensorFlow 2.x "
   ]
  },
  {
   "cell_type": "code",
   "execution_count": 4,
   "id": "a13fca98-00e4-4d8f-a781-e95d1e0e88e2",
   "metadata": {},
   "outputs": [],
   "source": [
    "# Check Tensorflow Version\n",
    "import tensorflow as tf"
   ]
  },
  {
   "cell_type": "code",
   "execution_count": 2,
   "id": "fb4598db-8b21-48b0-95de-249c76309888",
   "metadata": {},
   "outputs": [
    {
     "data": {
      "text/plain": [
       "'2.17.0'"
      ]
     },
     "execution_count": 2,
     "metadata": {},
     "output_type": "execute_result"
    }
   ],
   "source": [
    "tf.__version__"
   ]
  },
  {
   "cell_type": "code",
   "execution_count": 5,
   "id": "bfcb1824-a4ab-489b-b00b-00f75731d792",
   "metadata": {},
   "outputs": [
    {
     "data": {
      "text/plain": [
       "False"
      ]
     },
     "execution_count": 5,
     "metadata": {},
     "output_type": "execute_result"
    }
   ],
   "source": [
    "# Check GPU availability\n",
    "tf.test.is_gpu_available()"
   ]
  },
  {
   "cell_type": "code",
   "execution_count": 7,
   "id": "ac563e0e-6e0c-40c5-944a-75d23e38dc87",
   "metadata": {},
   "outputs": [
    {
     "data": {
      "text/plain": [
       "<tf.Tensor: shape=(), dtype=int32, numpy=10>"
      ]
     },
     "execution_count": 7,
     "metadata": {},
     "output_type": "execute_result"
    }
   ],
   "source": [
    "# Create Integer Constant\n",
    "a = tf.constant(10)\n",
    "a"
   ]
  },
  {
   "cell_type": "code",
   "execution_count": 11,
   "id": "daa60d1d-0738-4e2d-ba80-257fd013838a",
   "metadata": {},
   "outputs": [
    {
     "data": {
      "text/plain": [
       "<tf.Tensor: shape=(), dtype=float32, numpy=10.5>"
      ]
     },
     "execution_count": 11,
     "metadata": {},
     "output_type": "execute_result"
    }
   ],
   "source": [
    "# Create float Constant\n",
    "b = tf.constant(10.5)\n",
    "b"
   ]
  },
  {
   "cell_type": "code",
   "execution_count": 12,
   "id": "3598049b-dbf7-4c3b-8cb9-d919592b1ba9",
   "metadata": {},
   "outputs": [
    {
     "data": {
      "text/plain": [
       "<tf.Tensor: shape=(), dtype=string, numpy=b'Bhupeshwar Pathania'>"
      ]
     },
     "execution_count": 12,
     "metadata": {},
     "output_type": "execute_result"
    }
   ],
   "source": [
    "# Create String Constant\n",
    "c = tf.constant(\"Bhupeshwar Pathania\")\n",
    "c"
   ]
  },
  {
   "cell_type": "code",
   "execution_count": 14,
   "id": "8bf094dc-3de6-43a7-8fba-e77268743349",
   "metadata": {},
   "outputs": [
    {
     "data": {
      "text/plain": [
       "<tf.Tensor: shape=(), dtype=bool, numpy=True>"
      ]
     },
     "execution_count": 14,
     "metadata": {},
     "output_type": "execute_result"
    }
   ],
   "source": [
    "# Create Boolean Constant\n",
    "d = tf.constant(True)\n",
    "d"
   ]
  },
  {
   "cell_type": "code",
   "execution_count": 16,
   "id": "ff818cfb-e428-4295-ad0d-35865de9d1ac",
   "metadata": {},
   "outputs": [],
   "source": [
    "# Create Constant Numpy Array/List/Tuple\n",
    "import numpy as np"
   ]
  },
  {
   "cell_type": "code",
   "execution_count": 17,
   "id": "46da1a1a-af60-4ad9-b6da-0aaf19fa0a48",
   "metadata": {},
   "outputs": [
    {
     "data": {
      "text/plain": [
       "<tf.Tensor: shape=(4,), dtype=int32, numpy=array([1, 2, 3, 4])>"
      ]
     },
     "execution_count": 17,
     "metadata": {},
     "output_type": "execute_result"
    }
   ],
   "source": [
    "np_array = tf.constant(np.array([1,2,3,4]))\n",
    "np_array"
   ]
  },
  {
   "cell_type": "code",
   "execution_count": 24,
   "id": "3eeb33d0-2831-4ab5-9f51-381e4bf646fe",
   "metadata": {},
   "outputs": [
    {
     "data": {
      "text/plain": [
       "<tf.Tensor: shape=(4,), dtype=int32, numpy=array([1, 2, 3, 4])>"
      ]
     },
     "execution_count": 24,
     "metadata": {},
     "output_type": "execute_result"
    }
   ],
   "source": [
    "# Create 1D Constant\n",
    "t_1d = tf.constant([1,2,3,4])\n",
    "t_1d"
   ]
  },
  {
   "cell_type": "code",
   "execution_count": 26,
   "id": "2e1c2f22-2242-4b73-9040-5b660a6f0548",
   "metadata": {},
   "outputs": [
    {
     "data": {
      "text/plain": [
       "<tf.Tensor: shape=(2, 2), dtype=int32, numpy=\n",
       "array([[1, 2],\n",
       "       [3, 4]])>"
      ]
     },
     "execution_count": 26,
     "metadata": {},
     "output_type": "execute_result"
    }
   ],
   "source": [
    "# Create 2D Constant\n",
    "t_2d = tf.constant([1,2,3,4], shape=(2,2))\n",
    "t_2d"
   ]
  },
  {
   "cell_type": "code",
   "execution_count": 29,
   "id": "9143118b-6fdf-4704-a5be-ce288d308083",
   "metadata": {},
   "outputs": [
    {
     "data": {
      "text/plain": [
       "<tf.Tensor: shape=(2, 2), dtype=float32, numpy=\n",
       "array([[1., 2.],\n",
       "       [3., 4.]], dtype=float32)>"
      ]
     },
     "execution_count": 29,
     "metadata": {},
     "output_type": "execute_result"
    }
   ],
   "source": [
    "t_2d_1 = tf.constant([1,2,3,4], shape=(2,2), dtype = 'float32')\n",
    "t_2d_1"
   ]
  },
  {
   "cell_type": "code",
   "execution_count": 31,
   "id": "32ab96b2-d809-4da2-bac0-5cddb55c180c",
   "metadata": {},
   "outputs": [
    {
     "data": {
      "text/plain": [
       "<tf.Tensor: shape=(1, 3, 2), dtype=float32, numpy=\n",
       "array([[[1., 2.],\n",
       "        [2., 3.],\n",
       "        [4., 5.]]], dtype=float32)>"
      ]
     },
     "execution_count": 31,
     "metadata": {},
     "output_type": "execute_result"
    }
   ],
   "source": [
    "# Create N-D Constant\n",
    "t_3d_1 = tf.constant([[[1,2],[2,3],[4,5]]], dtype = 'float32')\n",
    "t_3d_1"
   ]
  },
  {
   "cell_type": "code",
   "execution_count": 32,
   "id": "73d4037e-4669-499f-aef4-8413e89038ea",
   "metadata": {},
   "outputs": [
    {
     "data": {
      "text/plain": [
       "tensorflow.python.framework.ops.EagerTensor"
      ]
     },
     "execution_count": 32,
     "metadata": {},
     "output_type": "execute_result"
    }
   ],
   "source": [
    "# Type of Constant\n",
    "type(t_3d_1)"
   ]
  },
  {
   "cell_type": "code",
   "execution_count": 33,
   "id": "a6783525-1ad9-43c3-82e9-ae0060cf7349",
   "metadata": {},
   "outputs": [
    {
     "data": {
      "text/plain": [
       "TensorShape([1, 3, 2])"
      ]
     },
     "execution_count": 33,
     "metadata": {},
     "output_type": "execute_result"
    }
   ],
   "source": [
    "# Shape of Constant\n",
    "t_3d_1.shape"
   ]
  },
  {
   "cell_type": "code",
   "execution_count": 34,
   "id": "c1d38af8-af80-471a-951c-494e0c0f98d6",
   "metadata": {},
   "outputs": [
    {
     "data": {
      "text/plain": [
       "TensorShape([2, 2])"
      ]
     },
     "execution_count": 34,
     "metadata": {},
     "output_type": "execute_result"
    }
   ],
   "source": [
    "t_2d_1.shape"
   ]
  },
  {
   "cell_type": "code",
   "execution_count": 35,
   "id": "77997c79-bb38-4b55-af82-4e4db0830ba2",
   "metadata": {},
   "outputs": [
    {
     "data": {
      "text/plain": [
       "array([1, 2, 3, 4])"
      ]
     },
     "execution_count": 35,
     "metadata": {},
     "output_type": "execute_result"
    }
   ],
   "source": [
    "# Access Constant Value\n",
    "t_1d.numpy()"
   ]
  },
  {
   "cell_type": "code",
   "execution_count": 36,
   "id": "9ab4b8e2-5b81-4a68-a10c-d245acc8257f",
   "metadata": {},
   "outputs": [
    {
     "data": {
      "text/plain": [
       "1"
      ]
     },
     "execution_count": 36,
     "metadata": {},
     "output_type": "execute_result"
    }
   ],
   "source": [
    "t_1d.numpy()[0]"
   ]
  },
  {
   "cell_type": "code",
   "execution_count": 37,
   "id": "1ef1e8cc-4f8c-4c8c-a0ce-5fc5f413ce97",
   "metadata": {},
   "outputs": [
    {
     "data": {
      "text/plain": [
       "3"
      ]
     },
     "execution_count": 37,
     "metadata": {},
     "output_type": "execute_result"
    }
   ],
   "source": [
    "t_1d.numpy()[2]"
   ]
  },
  {
   "cell_type": "code",
   "execution_count": 38,
   "id": "d8afd604-14c7-4de4-b52b-d6bfe88d6e6e",
   "metadata": {},
   "outputs": [
    {
     "data": {
      "text/plain": [
       "tf.float32"
      ]
     },
     "execution_count": 38,
     "metadata": {},
     "output_type": "execute_result"
    }
   ],
   "source": [
    "# Constant Data Type\n",
    "t_3d_1.dtype"
   ]
  },
  {
   "cell_type": "code",
   "execution_count": null,
   "id": "2047b044-d135-4568-9935-efbab33c657f",
   "metadata": {},
   "outputs": [],
   "source": []
  }
 ],
 "metadata": {
  "kernelspec": {
   "display_name": "Python 3 (ipykernel)",
   "language": "python",
   "name": "python3"
  },
  "language_info": {
   "codemirror_mode": {
    "name": "ipython",
    "version": 3
   },
   "file_extension": ".py",
   "mimetype": "text/x-python",
   "name": "python",
   "nbconvert_exporter": "python",
   "pygments_lexer": "ipython3",
   "version": "3.11.9"
  }
 },
 "nbformat": 4,
 "nbformat_minor": 5
}
