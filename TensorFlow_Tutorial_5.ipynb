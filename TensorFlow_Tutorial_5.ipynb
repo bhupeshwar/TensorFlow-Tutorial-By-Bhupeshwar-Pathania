{
 "cells": [
  {
   "cell_type": "markdown",
   "id": "cc1e6387-eaf4-4a60-ac58-e7a9efe72adc",
   "metadata": {},
   "source": [
    "# Create Ones vs Ones_like vs Ones_initializer Tensor Using TensorFlow 2.0"
   ]
  },
  {
   "cell_type": "markdown",
   "id": "43f595ed-2dce-4541-b7be-cdf4620fa6ac",
   "metadata": {},
   "source": [
    "In TensorFlow 2.0, we can create Ones Tensor(every element in tensor are ones) in different ways using tf.ones() and tf.ones_like() and tf.ones_initializer()."
   ]
  },
  {
   "cell_type": "markdown",
   "id": "4fd6e4c4-6ecf-48a0-b7a2-3862c2ed965d",
   "metadata": {},
   "source": [
    "## Create Ones Tesnor using tf.ones()"
   ]
  },
  {
   "cell_type": "markdown",
   "id": "d630f713-671f-49ee-bcda-d4965c32511f",
   "metadata": {},
   "source": [
    "Syntax:\n",
    "\n",
    "tf.ones(shape, dtype=tf.dtypes.float32, name=None) -> Return Ones Tensor"
   ]
  },
  {
   "cell_type": "code",
   "execution_count": 1,
   "id": "6c7a74f5-b840-4e8a-818b-ba97f9456253",
   "metadata": {},
   "outputs": [],
   "source": [
    "# Import TensorFlow 2\n",
    "import tensorflow as tf"
   ]
  },
  {
   "cell_type": "markdown",
   "id": "5fef163c-0e41-4cc1-8293-e4c424338e66",
   "metadata": {},
   "source": [
    "### Create ones tensor"
   ]
  },
  {
   "cell_type": "code",
   "execution_count": 15,
   "id": "83decbca-1014-4db0-b7f7-49a3fe69c2e5",
   "metadata": {},
   "outputs": [
    {
     "data": {
      "text/plain": [
       "<tf.Tensor: shape=(2, 2), dtype=float32, numpy=\n",
       "array([[1., 1.],\n",
       "       [1., 1.]], dtype=float32)>"
      ]
     },
     "execution_count": 15,
     "metadata": {},
     "output_type": "execute_result"
    }
   ],
   "source": [
    "ones_2dt = tf.ones((2,2), tf.float32)\n",
    "ones_2dt"
   ]
  },
  {
   "cell_type": "code",
   "execution_count": 3,
   "id": "ed2788ed-1bd9-4ead-9945-96b803e3abf0",
   "metadata": {},
   "outputs": [
    {
     "data": {
      "text/plain": [
       "<tf.Tensor: shape=(2, 2, 4), dtype=float32, numpy=\n",
       "array([[[1., 1., 1., 1.],\n",
       "        [1., 1., 1., 1.]],\n",
       "\n",
       "       [[1., 1., 1., 1.],\n",
       "        [1., 1., 1., 1.]]], dtype=float32)>"
      ]
     },
     "execution_count": 3,
     "metadata": {},
     "output_type": "execute_result"
    }
   ],
   "source": [
    "ones_3dt = tf.ones((2,2,4), tf.float32)\n",
    "ones_3dt"
   ]
  },
  {
   "cell_type": "markdown",
   "id": "bfe8e10b-f1e1-4d81-b2b8-0355d386170c",
   "metadata": {},
   "source": [
    "## Create Ones Tesnor using tf.ones_like()"
   ]
  },
  {
   "cell_type": "markdown",
   "id": "feacf520-67a2-4ced-99ce-c249748b3209",
   "metadata": {},
   "source": [
    "Creates a tensor of all ones that has the same shape as the input"
   ]
  },
  {
   "cell_type": "markdown",
   "id": "fefaa620-04e9-44ef-8d2b-d75aef971e2b",
   "metadata": {},
   "source": [
    "Syntax:\n",
    "\n",
    "tf.ones_like(input, dtype=None, name=None) -> Return Ones Tensor"
   ]
  },
  {
   "cell_type": "code",
   "execution_count": 4,
   "id": "8269924c-3c04-445f-884e-087f5c19b962",
   "metadata": {},
   "outputs": [],
   "source": [
    "# Import TensorFlow 2\n",
    "import tensorflow as tf"
   ]
  },
  {
   "cell_type": "markdown",
   "id": "a98339ee-4b30-47d5-9f98-9a50d7547739",
   "metadata": {},
   "source": [
    "### Create ones tensor from input"
   ]
  },
  {
   "cell_type": "code",
   "execution_count": 9,
   "id": "a315e0b4-c736-4634-ae40-d7cbb87fbc2f",
   "metadata": {},
   "outputs": [
    {
     "data": {
      "text/plain": [
       "<tf.Tensor: shape=(2, 3), dtype=int32, numpy=\n",
       "array([[1, 2, 3],\n",
       "       [4, 5, 6]])>"
      ]
     },
     "execution_count": 9,
     "metadata": {},
     "output_type": "execute_result"
    }
   ],
   "source": [
    "cont_2dt = tf.constant([[1,2,3],[4,5,6]])\n",
    "cont_2dt"
   ]
  },
  {
   "cell_type": "code",
   "execution_count": 6,
   "id": "12e94c2d-c029-424a-80e2-07dc2bbf4b8e",
   "metadata": {},
   "outputs": [
    {
     "data": {
      "text/plain": [
       "<tf.Tensor: shape=(2, 3), dtype=float32, numpy=\n",
       "array([[1., 1., 1.],\n",
       "       [1., 1., 1.]], dtype=float32)>"
      ]
     },
     "execution_count": 6,
     "metadata": {},
     "output_type": "execute_result"
    }
   ],
   "source": [
    "ones_2dt_from_cont = tf.ones_like(cont_2dt, tf.float32)\n",
    "ones_2dt_from_cont"
   ]
  },
  {
   "cell_type": "code",
   "execution_count": 7,
   "id": "795c52b3-8522-4c9f-8c86-04d40ec9bf4b",
   "metadata": {},
   "outputs": [
    {
     "data": {
      "text/plain": [
       "<tf.Variable 'Variable:0' shape=(2, 3) dtype=int32, numpy=\n",
       "array([[1, 2, 3],\n",
       "       [4, 5, 6]])>"
      ]
     },
     "execution_count": 7,
     "metadata": {},
     "output_type": "execute_result"
    }
   ],
   "source": [
    "var_2dt_from_var = tf.Variable([[1,2,3],[4,5,6]])\n",
    "var_2dt_from_var"
   ]
  },
  {
   "cell_type": "code",
   "execution_count": 8,
   "id": "988b3fdb-1e59-4ac4-be62-faa74526f201",
   "metadata": {},
   "outputs": [
    {
     "data": {
      "text/plain": [
       "<tf.Tensor: shape=(2, 3), dtype=int32, numpy=\n",
       "array([[1, 1, 1],\n",
       "       [1, 1, 1]])>"
      ]
     },
     "execution_count": 8,
     "metadata": {},
     "output_type": "execute_result"
    }
   ],
   "source": [
    "ones_2dt_from_var = tf.ones_like(var_2dt_from_var, tf.int32)\n",
    "ones_2dt_from_var"
   ]
  },
  {
   "cell_type": "markdown",
   "id": "3221549a-76fd-49c0-b9d0-f30dc81923a6",
   "metadata": {},
   "source": [
    "## Create Ones Tesnor using tf.ones_initializer()"
   ]
  },
  {
   "cell_type": "markdown",
   "id": "5b36920f-8d3f-4e5a-a9a5-103874c18443",
   "metadata": {},
   "source": [
    "Initializer that generates tensors initialized to 1.\n",
    "\n",
    "Initializers allow you to pre-specify an initialization strategy, encoded in the Initializer object, without knowing the shape and dtype of the variable being initialized."
   ]
  },
  {
   "cell_type": "markdown",
   "id": "da883e8f-f4a6-4d1a-8a58-e9a636a3b36e",
   "metadata": {},
   "source": [
    "Syntax:\n",
    "\n",
    "tf.ones_initializer()"
   ]
  },
  {
   "cell_type": "code",
   "execution_count": 11,
   "id": "297ac175-7e4a-44e4-9b59-ef1b898eeed9",
   "metadata": {},
   "outputs": [],
   "source": [
    "# Import TensorFlow 2\n",
    "import tensorflow as tf"
   ]
  },
  {
   "cell_type": "markdown",
   "id": "1d0bcf57-3f28-4bd7-aab8-6661f0b3f5ca",
   "metadata": {},
   "source": [
    "### Create ones tensor TensorFlow variable from the input"
   ]
  },
  {
   "cell_type": "code",
   "execution_count": 12,
   "id": "d6fc1a3e-ce55-469e-b9fe-dd5399769504",
   "metadata": {},
   "outputs": [],
   "source": [
    "def ones_variable(shape, dtype, initializer):\n",
    "    return tf.Variable(initializer(shape=shape, dtype=dtype))"
   ]
  },
  {
   "cell_type": "code",
   "execution_count": 13,
   "id": "2822d6d8-6942-4faf-bceb-0a0070afce37",
   "metadata": {},
   "outputs": [
    {
     "data": {
      "text/plain": [
       "<tf.Variable 'Variable:0' shape=(2, 2) dtype=float32, numpy=\n",
       "array([[1., 1.],\n",
       "       [1., 1.]], dtype=float32)>"
      ]
     },
     "execution_count": 13,
     "metadata": {},
     "output_type": "execute_result"
    }
   ],
   "source": [
    "ones_variable((2,2), tf.float32,  tf.ones_initializer())"
   ]
  },
  {
   "cell_type": "code",
   "execution_count": 14,
   "id": "4f107526-18ce-4269-b7e4-c0c42997eea9",
   "metadata": {},
   "outputs": [
    {
     "data": {
      "text/plain": [
       "<tf.Variable 'Variable:0' shape=(2, 3, 5) dtype=int32, numpy=\n",
       "array([[[1, 1, 1, 1, 1],\n",
       "        [1, 1, 1, 1, 1],\n",
       "        [1, 1, 1, 1, 1]],\n",
       "\n",
       "       [[1, 1, 1, 1, 1],\n",
       "        [1, 1, 1, 1, 1],\n",
       "        [1, 1, 1, 1, 1]]])>"
      ]
     },
     "execution_count": 14,
     "metadata": {},
     "output_type": "execute_result"
    }
   ],
   "source": [
    "ones_variable((2,3,5), tf.int32,  tf.ones_initializer())"
   ]
  },
  {
   "cell_type": "code",
   "execution_count": null,
   "id": "ff59be3f-5cf5-432c-b807-c7008f13129e",
   "metadata": {},
   "outputs": [],
   "source": []
  }
 ],
 "metadata": {
  "kernelspec": {
   "display_name": "Python 3 (ipykernel)",
   "language": "python",
   "name": "python3"
  },
  "language_info": {
   "codemirror_mode": {
    "name": "ipython",
    "version": 3
   },
   "file_extension": ".py",
   "mimetype": "text/x-python",
   "name": "python",
   "nbconvert_exporter": "python",
   "pygments_lexer": "ipython3",
   "version": "3.11.9"
  }
 },
 "nbformat": 4,
 "nbformat_minor": 5
}
