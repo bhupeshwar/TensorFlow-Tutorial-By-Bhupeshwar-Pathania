{
 "cells": [
  {
   "cell_type": "markdown",
   "id": "ac4ea72b-b656-4fe3-b100-bc3d2c2dd09b",
   "metadata": {},
   "source": [
    "# Create Sparse Tensor using TensorFlow 2.0"
   ]
  },
  {
   "cell_type": "markdown",
   "id": "77f24267-947e-4f4e-9320-f103701b086b",
   "metadata": {},
   "source": [
    "## What is Sparse Tensor?"
   ]
  },
  {
   "cell_type": "code",
   "execution_count": null,
   "id": "f4bdcf24-7108-49c5-b6bd-f79bfafe2391",
   "metadata": {},
   "outputs": [],
   "source": [
    "Tensor that contain mostly zero values are called sparse tensor.\n",
    "\n",
    "When working with tensors that contain a lot of zero values, it is important to store them in a space- and time-efficient manner. \n",
    "Sparse tensors enable efficient storage and processing of tensors that contain a lot of zero values.\n",
    "Sparse tensors are used extensively in encoding schemes like TF-IDF as part of data pre-processing in NLP applications and\n",
    "for pre-processing images with a lot of dark pixels in computer vision applications.\n",
    "\n",
    "Currently, sparse tensors in TensorFlow are encoded using the coordinate list (COO) format.\n",
    "\n",
    "The COO encoding for sparse tensors is comprised of:\n",
    "\n",
    "values: A 1D tensor with shape [N] containing all nonzero values.\n",
    "indices: A 2D tensor with shape [N, rank], containing the indices of the nonzero values.\n",
    "dense_shape: A 1D tensor with shape [rank], specifying the shape of the tensor.\n",
    "\n",
    "A nonzero value in the context of a tf.SparseTensor is a value that’s not explicitly encoded.\n",
    "\n",
    "Syntax: \n",
    "\n",
    "tf.sparse.SparseTensor(indices, values, dense_shape)\n"
   ]
  },
  {
   "cell_type": "code",
   "execution_count": 1,
   "id": "e527a832-fc61-485b-816e-c0c4418d92a7",
   "metadata": {},
   "outputs": [],
   "source": [
    "import tensorflow as tf"
   ]
  },
  {
   "cell_type": "markdown",
   "id": "e41ea5a6-646c-4929-b24c-65700ac60846",
   "metadata": {},
   "source": [
    "## Create TensorFlow Sparse Tensor"
   ]
  },
  {
   "cell_type": "code",
   "execution_count": 18,
   "id": "d775e260-3884-4424-b266-a56ed1d981dc",
   "metadata": {},
   "outputs": [
    {
     "data": {
      "text/plain": [
       "SparseTensor(indices=tf.Tensor(\n",
       "[[0 3]\n",
       " [2 4]], shape=(2, 2), dtype=int64), values=tf.Tensor([10 20], shape=(2,), dtype=int32), dense_shape=tf.Tensor([ 3 10], shape=(2,), dtype=int64))"
      ]
     },
     "execution_count": 18,
     "metadata": {},
     "output_type": "execute_result"
    }
   ],
   "source": [
    "st1 = tf.SparseTensor(indices=[[0,3], [2,4]], values=[10,20], dense_shape=[3,10])\n",
    "st1"
   ]
  },
  {
   "cell_type": "markdown",
   "id": "49dec368-2656-460d-a537-9e8ef33a4379",
   "metadata": {},
   "source": [
    "## Create Sparse Tensor From Dense"
   ]
  },
  {
   "cell_type": "code",
   "execution_count": 19,
   "id": "fff4dbd5-186d-4af8-bdbf-99f86dd369a6",
   "metadata": {},
   "outputs": [
    {
     "data": {
      "text/plain": [
       "array([[1, 0, 0, 0],\n",
       "       [0, 0, 0, 0],\n",
       "       [0, 0, 2, 0],\n",
       "       [0, 0, 0, 4]])"
      ]
     },
     "execution_count": 19,
     "metadata": {},
     "output_type": "execute_result"
    }
   ],
   "source": [
    "import numpy as np \n",
    "np_array = np.array([[1,0,0,0],\n",
    "                     [0,0,0,0],\n",
    "                     [0,0,2,0],\n",
    "                     [0,0,0,4]])\n",
    "np_array"
   ]
  },
  {
   "cell_type": "code",
   "execution_count": 6,
   "id": "2045ffee-42b8-446e-8784-cf223e845fa4",
   "metadata": {},
   "outputs": [
    {
     "data": {
      "text/plain": [
       "SparseTensor(indices=tf.Tensor(\n",
       "[[0 0]\n",
       " [2 2]\n",
       " [3 3]], shape=(3, 2), dtype=int64), values=tf.Tensor([1 2 4], shape=(3,), dtype=int32), dense_shape=tf.Tensor([4 4], shape=(2,), dtype=int64))"
      ]
     },
     "execution_count": 6,
     "metadata": {},
     "output_type": "execute_result"
    }
   ],
   "source": [
    "st2_fd = tf.sparse.from_dense(np_array)\n",
    "st2_fd"
   ]
  },
  {
   "cell_type": "markdown",
   "id": "80a98b9c-c047-4858-80f8-6d4941cdb684",
   "metadata": {},
   "source": [
    "## Extract the values, indices & shape of Sparse Tensor"
   ]
  },
  {
   "cell_type": "code",
   "execution_count": 9,
   "id": "60007e65-4931-4ccf-b0ff-dcb6a92203a3",
   "metadata": {},
   "outputs": [
    {
     "data": {
      "text/plain": [
       "[1, 2, 4]"
      ]
     },
     "execution_count": 9,
     "metadata": {},
     "output_type": "execute_result"
    }
   ],
   "source": [
    "st2_fd.values.numpy().tolist()"
   ]
  },
  {
   "cell_type": "code",
   "execution_count": 10,
   "id": "4cf61d44-a9c2-48a7-bca2-2a48f681ae80",
   "metadata": {},
   "outputs": [
    {
     "data": {
      "text/plain": [
       "[[0, 0], [2, 2], [3, 3]]"
      ]
     },
     "execution_count": 10,
     "metadata": {},
     "output_type": "execute_result"
    }
   ],
   "source": [
    "st2_fd.indices.numpy().tolist()"
   ]
  },
  {
   "cell_type": "code",
   "execution_count": 11,
   "id": "a3a4b131-8ac6-44e9-b3d4-20b4f1f084d2",
   "metadata": {},
   "outputs": [
    {
     "data": {
      "text/plain": [
       "[4, 4]"
      ]
     },
     "execution_count": 11,
     "metadata": {},
     "output_type": "execute_result"
    }
   ],
   "source": [
    "st2_fd.dense_shape.numpy().tolist()"
   ]
  },
  {
   "cell_type": "markdown",
   "id": "55a6b22e-8d07-4243-87d0-99a34b925f4a",
   "metadata": {},
   "source": [
    "## Sparse Tensor to Dense"
   ]
  },
  {
   "cell_type": "markdown",
   "id": "8757e608-a7dd-4637-adb5-9150527f3a97",
   "metadata": {},
   "source": [
    "If most of the elements are nonzero, then the tensor is considered dense."
   ]
  },
  {
   "cell_type": "code",
   "execution_count": 13,
   "id": "16ad197b-c0df-434b-8efb-de0fa347a0d7",
   "metadata": {},
   "outputs": [
    {
     "data": {
      "text/plain": [
       "<tf.Tensor: shape=(4, 4), dtype=int32, numpy=\n",
       "array([[1, 0, 0, 0],\n",
       "       [0, 0, 0, 0],\n",
       "       [0, 0, 2, 0],\n",
       "       [0, 0, 0, 4]])>"
      ]
     },
     "execution_count": 13,
     "metadata": {},
     "output_type": "execute_result"
    }
   ],
   "source": [
    "dt_fst = tf.sparse.to_dense(st2_fd)\n",
    "dt_fst"
   ]
  },
  {
   "cell_type": "code",
   "execution_count": 20,
   "id": "912d44c8-a7f2-42b8-bf1f-8f3deec389d2",
   "metadata": {},
   "outputs": [
    {
     "data": {
      "text/plain": [
       "array([[1, 0, 0, 0],\n",
       "       [0, 0, 0, 0],\n",
       "       [0, 0, 2, 0],\n",
       "       [0, 0, 0, 4]])"
      ]
     },
     "execution_count": 20,
     "metadata": {},
     "output_type": "execute_result"
    }
   ],
   "source": [
    "# Convert Dense tensor into numpy array\n",
    "dt_fst.numpy()"
   ]
  },
  {
   "cell_type": "markdown",
   "id": "5f74c331-e7e8-4f52-8246-22ff0037f18a",
   "metadata": {},
   "source": [
    "## Mathematical operation on Sparse Tensor"
   ]
  },
  {
   "cell_type": "code",
   "execution_count": 15,
   "id": "aa2d254d-67a5-4cb3-a1bf-eb4805da6e46",
   "metadata": {},
   "outputs": [
    {
     "name": "stdout",
     "output_type": "stream",
     "text": [
      "SparseTensor(indices=tf.Tensor(\n",
      "[[0 0]\n",
      " [2 2]\n",
      " [3 3]], shape=(3, 2), dtype=int64), values=tf.Tensor([2 4 8], shape=(3,), dtype=int32), dense_shape=tf.Tensor([4 4], shape=(2,), dtype=int64))\n"
     ]
    }
   ],
   "source": [
    "st_add = tf.sparse.add(st2_fd, st2_fd)\n",
    "st_add\n",
    " \n",
    "print(st_add)"
   ]
  },
  {
   "cell_type": "code",
   "execution_count": 16,
   "id": "57673ec1-7c24-40de-af28-c4e7bfcc0fed",
   "metadata": {},
   "outputs": [
    {
     "data": {
      "text/plain": [
       "array([[2, 0, 0, 0],\n",
       "       [0, 0, 0, 0],\n",
       "       [0, 0, 4, 0],\n",
       "       [0, 0, 0, 8]])"
      ]
     },
     "execution_count": 16,
     "metadata": {},
     "output_type": "execute_result"
    }
   ],
   "source": [
    "tf.sparse.to_dense(st_add).numpy()"
   ]
  },
  {
   "cell_type": "code",
   "execution_count": null,
   "id": "1472fa3f-d69a-45ef-8c35-e8f7817cdda9",
   "metadata": {},
   "outputs": [],
   "source": []
  }
 ],
 "metadata": {
  "kernelspec": {
   "display_name": "Python 3 (ipykernel)",
   "language": "python",
   "name": "python3"
  },
  "language_info": {
   "codemirror_mode": {
    "name": "ipython",
    "version": 3
   },
   "file_extension": ".py",
   "mimetype": "text/x-python",
   "name": "python",
   "nbconvert_exporter": "python",
   "pygments_lexer": "ipython3",
   "version": "3.11.9"
  }
 },
 "nbformat": 4,
 "nbformat_minor": 5
}
